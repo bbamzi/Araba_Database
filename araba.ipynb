{
 "cells": [
  {
   "cell_type": "code",
   "execution_count": 11,
   "metadata": {},
   "outputs": [],
   "source": [
    "#load neccessary libraries\n",
    "import pandas as pd\n",
    "import numpy as np\n"
   ]
  },
  {
   "cell_type": "code",
   "execution_count": 12,
   "metadata": {},
   "outputs": [],
   "source": [
    "##linking google sheet \n",
    "import gspread \n",
    "from oauth2client.service_account import ServiceAccountCredentials\n",
    "scope = ['https://spreadsheets.google.com/feeds'] \n",
    "credentials = ServiceAccountCredentials.from_json_keyfile_name('araba-database-b34dc9c828f0.json', scope) \n",
    "gc = gspread.authorize(credentials)\n",
    "spreadsheet_key = '1IRpTDeZ3XIXqEZaI5JWgJHHEaTWgU9gCi1OxoBUTXRc' \n",
    "book = gc.open_by_key(spreadsheet_key) \n",
    "worksheet = book.worksheet(\"Form Responses 1\") \n",
    "table = worksheet.get_all_values()\n"
   ]
  },
  {
   "cell_type": "code",
   "execution_count": 13,
   "metadata": {},
   "outputs": [],
   "source": [
    "##Convert table data into a dataframe \n",
    "df = pd.DataFrame(table[1:], columns=table[0])\n",
    "\n",
    "\n",
    "##Convert number strings to floats and ints \n",
    "df = df.apply(pd.to_numeric, errors='ignore')\n",
    "\n"
   ]
  },
  {
   "cell_type": "code",
   "execution_count": 14,
   "metadata": {},
   "outputs": [],
   "source": [
    "#Convert date strings to datetime format \n",
    "df['Date Of Birth'] = pd.to_datetime(df['Date Of Birth'],infer_datetime_format=True) \n",
    "df['Wedding Anniversary (Marrieds only)'] = pd.to_datetime(df['Wedding Anniversary (Marrieds only)'],infer_datetime_format=True)\n",
    "\n",
    "\n"
   ]
  },
  {
   "cell_type": "code",
   "execution_count": 15,
   "metadata": {},
   "outputs": [],
   "source": [
    "#df = df.drop(df.columns[[0]], axis=1) \n",
    "\n",
    "#join first and last name together \n",
    "df['Full Name'] = df['Surname'] + ' '+ df['First Name'] + ' ' + df['Middle Name']"
   ]
  },
  {
   "cell_type": "code",
   "execution_count": 17,
   "metadata": {},
   "outputs": [],
   "source": [
    "#rearrange the columns\n",
    "mid = df['Full Name']\n",
    "df.drop(labels=['Full Name'], axis=1, inplace = True)\n",
    "df.insert(1, 'Full Name', mid)\n",
    "\n"
   ]
  },
  {
   "cell_type": "code",
   "execution_count": 18,
   "metadata": {},
   "outputs": [],
   "source": [
    "#drop  first name and middle name \n",
    "#del df['Surname']\n",
    "df = df.rename(columns = {'Surname': 'Family'})\n",
    "del df['First Name']\n",
    "del df['Middle Name']\n",
    "#capitalise all first letters of names \n",
    "df['Full Name']= df['Full Name'].str.title()\n"
   ]
  },
  {
   "cell_type": "code",
   "execution_count": 19,
   "metadata": {},
   "outputs": [],
   "source": [
    "df = df.rename(columns = {'Have you been baptized?': 'Baptism'})"
   ]
  },
  {
   "cell_type": "code",
   "execution_count": 20,
   "metadata": {},
   "outputs": [],
   "source": [
    "# this codes shows duplicated inputs if any \n",
    "duplicateDFRow = df[df.duplicated()]\n",
    "duplicateDFRow\n",
    "\n",
    "#delete duplicates if any \n",
    "df.drop_duplicates(subset =\"Full Name\", \n",
    "                     keep = False, inplace = True) "
   ]
  },
  {
   "cell_type": "code",
   "execution_count": 21,
   "metadata": {},
   "outputs": [],
   "source": [
    "#making sure all state of origin inputfollow same format i.e Oyo will be oyo in all cases not Oyo(ibadan) (e get why)\n",
    "df['State of Origin'] = df['State of Origin'].str.title()\n",
    "df['State of Origin'] = df[['State of Origin']].applymap(lambda x: x.split()[0]+ ' State')"
   ]
  },
  {
   "cell_type": "code",
   "execution_count": 22,
   "metadata": {},
   "outputs": [],
   "source": [
    "#lets all column name start with capital letter\n",
    "for col in df:\n",
    "    col.title()\n",
    "\n",
    "#lets all Family name start with capital letter\n",
    "df['Family']= df['Family'].str.title()\n",
    "\n"
   ]
  },
  {
   "cell_type": "code",
   "execution_count": 23,
   "metadata": {},
   "outputs": [],
   "source": [
    "#converts the date of birth and wedding anniversary column from string to datetime format\n",
    "df['Date Of Birth']= pd.to_datetime(df['Date Of Birth'])\n",
    "df['Wedding Anniversary (Marrieds only)']= pd.to_datetime(df['Wedding Anniversary (Marrieds only)'])"
   ]
  },
  {
   "cell_type": "code",
   "execution_count": 24,
   "metadata": {},
   "outputs": [],
   "source": [
    "#this function when ran subtracts todays date from date of birth to give age or years marriage\n",
    "def from_dob_to_age(born):\n",
    "    today = datetime.date.today()\n",
    "    return today.year - born.year - ((today.month, today.day) < (born.month, born.day))\n",
    "def from_yom_to_aom(wed):\n",
    "    today = datetime.date.today()\n",
    "    return today.year - wed.year - ((today.month, today.day) < (wed.month, wed.day))"
   ]
  },
  {
   "cell_type": "code",
   "execution_count": 25,
   "metadata": {},
   "outputs": [],
   "source": [
    "import datetime\n",
    "#Applying the from_dob_to_age fucntion\n",
    "df['Age'] = df['Date Of Birth'].apply(lambda x: from_dob_to_age(x))\n",
    "df['Years of Marriage'] = df['Wedding Anniversary (Marrieds only)'].apply(lambda x: from_dob_to_age(x))\n",
    "\n",
    "#too many numbers , lets give them their name (eg 1 is to january , 2 is to feburary etc)\n",
    "import calendar\n",
    "df['Month'] = pd.DatetimeIndex(df['Date Of Birth']).month\n",
    "df['Month'] = df['Month'].apply(lambda x: calendar.month_name[x])\n",
    "df['Month and Day'] = df['Month'].astype(str) +', ' + (pd.DatetimeIndex(df['Date Of Birth']).day ).astype(str)\n",
    "df['MMonth'] = pd.DatetimeIndex(df['Wedding Anniversary (Marrieds only)']).month\n",
    "df['MMonth and Day'] = df['MMonth'].astype(str) +', ' + (pd.DatetimeIndex(df['Wedding Anniversary (Marrieds only)']).day ).astype(str)\n",
    "\n"
   ]
  },
  {
   "cell_type": "code",
   "execution_count": 26,
   "metadata": {},
   "outputs": [],
   "source": [
    "#this code replaces all blanks into Nan formant \n",
    "df.replace(r'^\\s*$', np.nan, regex=True,inplace = True)\n",
    "\n",
    "#replaces any blank in society with non society \n",
    "df['Society'].fillna('Non-Society', inplace=True)"
   ]
  },
  {
   "cell_type": "code",
   "execution_count": 27,
   "metadata": {},
   "outputs": [],
   "source": [
    "#the code below conditions all age into a group \n",
    "df[\"Age\"]=df[\"Age\"].astype(int, copy=True)\n",
    "def age_group(age):\n",
    "    if age['Age'] <= 12:\n",
    "        return 'Children'\n",
    "    elif age['Age'] <= 17:\n",
    "        return 'Teen' \n",
    "    elif age['Age'] <= 45:\n",
    "        return 'Youth'\n",
    "    elif age['Age'] <= 70:\n",
    "        return 'Adult'\n",
    "    else:\n",
    "        return 'Elder'"
   ]
  },
  {
   "cell_type": "code",
   "execution_count": 28,
   "metadata": {},
   "outputs": [],
   "source": [
    "df['AGE GROUP'] = df.apply(age_group, axis=1)\n",
    "\n",
    "#the code below forces any response other than married or widowed into single\n",
    "def status(stat):\n",
    "    if stat['Marital Status'] == 'Single':\n",
    "        return 'Single'\n",
    "    elif stat['Marital Status'] == 'Married':\n",
    "        return 'Married'\n",
    "    elif stat['Marital Status'] == 'Widowed':\n",
    "        return 'Widowed'\n",
    "    else:\n",
    "        return 'Single'\n",
    "\n"
   ]
  },
  {
   "cell_type": "code",
   "execution_count": 29,
   "metadata": {},
   "outputs": [],
   "source": [
    "df['Marital Status'] = df.apply(status, axis=1)\n",
    "\n",
    "WED = df[['Timestamp','Full Name','Family','Gender','Wedding Anniversary (Marrieds only)','Years of Marriage','MMonth']]\n",
    "WED = WED.dropna()\n",
    "WED = WED.astype({\"Years of Marriage\": int ,'MMonth' : int})\n",
    "\n",
    "def month(stat):\n",
    "    if stat['MMonth'] == 1:\n",
    "        return 'January'\n",
    "    elif stat['MMonth'] == 2:\n",
    "        return 'February'\n",
    "    elif stat['MMonth'] == 3:\n",
    "        return 'March'\n",
    "    elif stat['MMonth'] == 4:\n",
    "        return 'April'\n",
    "    elif stat['MMonth'] == 5:\n",
    "        return 'May'\n",
    "    elif stat['MMonth'] == 6:\n",
    "        return 'June'\n",
    "    elif stat['MMonth'] == 7:\n",
    "        return 'July'\n",
    "    elif stat['MMonth'] == 8:\n",
    "        return 'August'\n",
    "    elif stat['MMonth'] == 9:\n",
    "        return 'September'\n",
    "    elif stat['MMonth'] == 10:\n",
    "        return 'October'\n",
    "    elif stat['MMonth'] == 11:\n",
    "        return 'Noevember'\n",
    "    else:\n",
    "        return 'December'"
   ]
  },
  {
   "cell_type": "code",
   "execution_count": 30,
   "metadata": {},
   "outputs": [],
   "source": [
    "WED['MMonth'] = WED.apply(month, axis=1)\n",
    "\n",
    "\n",
    "WED['MONTH AND DAY'] = WED['MMonth'].astype(str) +', ' + (pd.DatetimeIndex(WED['Wedding Anniversary (Marrieds only)']).day ).astype(str)\n",
    "\n"
   ]
  },
  {
   "cell_type": "code",
   "execution_count": 31,
   "metadata": {},
   "outputs": [],
   "source": [
    "#this new dataframe will be sent to our google sheet \n",
    "For_Analysis = df[['Timestamp','Full Name','Family','Gender','Date Of Birth','Marital Status','Baptism','Society','AGE GROUP',\n",
    "                  'State of Origin', 'Local Government of Origin','Wedding Anniversary (Marrieds only)']]\n",
    "For_Analysis.index.rename('No', inplace=True)\n",
    "\n",
    "FOR_WEDDINGS = WED[['Timestamp','Full Name','Family','Gender','Wedding Anniversary (Marrieds only)','Years of Marriage','MMonth','MONTH AND DAY']]\n",
    "FOR_WEDDINGS.index.rename('No', inplace=True)\n",
    "\n",
    "#this new dataframe will be sent to our google sheet \n",
    "contact_details= df[['Timestamp','Full Name','Date Of Birth','Month','Month and Day','Age','Mobile Number','Additional Mobile Number(s)','Residential Address','Gender']]\n",
    "contact_details.index.rename('No', inplace=True)"
   ]
  },
  {
   "cell_type": "code",
   "execution_count": 34,
   "metadata": {},
   "outputs": [
    {
     "data": {
      "text/plain": [
       "<Worksheet 'contact_details' id:443988813>"
      ]
     },
     "execution_count": 34,
     "metadata": {},
     "output_type": "execute_result"
    }
   ],
   "source": [
    "# sending contact_details to google sheet\n",
    "from df2gspread import df2gspread as d2g \n",
    "wks_name = 'contact_details' \n",
    "d2g.upload(contact_details, spreadsheet_key, wks_name, credentials=credentials, row_names=True)\n",
    "\n",
    "\n"
   ]
  },
  {
   "cell_type": "code",
   "execution_count": 35,
   "metadata": {},
   "outputs": [
    {
     "data": {
      "text/plain": [
       "<Worksheet 'For_Analysis' id:1799952380>"
      ]
     },
     "execution_count": 35,
     "metadata": {},
     "output_type": "execute_result"
    }
   ],
   "source": [
    "# sending For_Analysis to google sheet\n",
    "from df2gspread import df2gspread as d2g \n",
    "wks_name = 'For_Analysis' \n",
    "d2g.upload(For_Analysis, spreadsheet_key, wks_name, credentials=credentials, row_names=True)\n",
    "\n"
   ]
  },
  {
   "cell_type": "code",
   "execution_count": 36,
   "metadata": {},
   "outputs": [
    {
     "name": "stdout",
     "output_type": "stream",
     "text": [
      "code succesfull\n"
     ]
    }
   ],
   "source": [
    "# sending FOR_WEDDINGS to google sheet\n",
    "from df2gspread import df2gspread as d2g \n",
    "wks_name = 'FOR_WEDDINGS' \n",
    "d2g.upload(FOR_WEDDINGS, spreadsheet_key, wks_name, credentials=credentials, row_names=True)\n",
    "\n",
    "print('code succesfull')"
   ]
  },
  {
   "cell_type": "code",
   "execution_count": null,
   "metadata": {},
   "outputs": [],
   "source": []
  }
 ],
 "metadata": {
  "kernelspec": {
   "display_name": "Python 3",
   "language": "python",
   "name": "python3"
  },
  "language_info": {
   "codemirror_mode": {
    "name": "ipython",
    "version": 3
   },
   "file_extension": ".py",
   "mimetype": "text/x-python",
   "name": "python",
   "nbconvert_exporter": "python",
   "pygments_lexer": "ipython3",
   "version": "3.7.6"
  }
 },
 "nbformat": 4,
 "nbformat_minor": 4
}
